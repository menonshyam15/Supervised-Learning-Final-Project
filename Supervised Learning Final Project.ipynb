{
 "cells": [
  {
   "cell_type": "markdown",
   "metadata": {},
   "source": [
    "# Supervised Learning Final Project\n",
    "\n",
    "## Covid-19 Data Analysis\n",
    "\n",
    "\n",
    "### Introduction (Learning Problem Description)\n",
    "Covid-19 has changed the lives of everyone in one form or another. The unprecedented spread of the virus has been tracked and catgeorized since the start. The availability and transparency of Covid-19 data has been fundamental in policy decision making. In this project, historical covid-19 data was analyzed in order to answer questions and provide insights into the spread of the disease. The data used was from Johns Hopkins University Center for Systems Science and Engineering (JHU CSSE) (https://github.com/CSSEGISandData/COVID-19). Please see code for URL to exact dataset used.\n",
    "\n",
    "With any data analysis it is important to have a relative set of questions or goals that should be answered. Data is meaningless without a relative question to connect it together. Since the scope of the data set is massive, I have decided to focus on some country wide generalizations, and more specifically statewide data. My homestate of Virginia was selected to be the state of interest in the analysis.\n",
    "\n",
    "Project Github Repository: https://github.com/menonshyam15/Supervised-Learning-Final-Project\n",
    "\n",
    "\n",
    "### Outline\n",
    "**Part 1 - Data Prep and Cleaning**\n",
    "\n",
    "**Part 2 - Exploratory Analysis**\n",
    "\n",
    "1. What is the current number of Covid-19 cases in the USA?\n",
    "2. Which states had the highest and lowest number of Covid-19 cases?\n",
    "3. Visualize the number of Covid-19 cases per state.\n",
    "4. What is the total number of cases in Virginia?\n",
    "5. How many new cases have been reported in Virginia over the past 10 days?\n",
    "6. Which county in Virginia reported the highest number of total cases?\n",
    "7. When did Fairfax County report the highest number of new Covid-19 cases (in a day)?\n",
    "8. What is the distribution over time of total number of cases for Fairfax and Arlington counties?\n",
    "\n",
    "**Part 3 - Model Building/Training and Result**\n",
    "\n",
    "1. Simple time series for the number of covid-19 cases over time:\n",
    "    - Virginia\n",
    "    - USA\n",
    "2. Build a Linear Regression model to predict number of cases in USA over time (January 2021 to Present)\n",
    "\n",
    "**Part 4 - Discussion/Conclusion**\n",
    "\n",
    "<p>&nbsp;</p>"
   ]
  },
  {
   "cell_type": "code",
   "execution_count": 1,
   "metadata": {},
   "outputs": [],
   "source": [
    "#Preparing the notebook, importing necessary libraries\n",
    "import pandas as pd\n",
    "import matplotlib.pyplot as plt\n",
    "import numpy as np\n",
    "import math\n",
    "import scipy.stats\n",
    "import seaborn as sns\n",
    "import statsmodels.formula.api as smf\n",
    "import statsmodels.api as sm\n",
    "pd.set_option('display.max_columns', None)"
   ]
  },
  {
   "cell_type": "markdown",
   "metadata": {},
   "source": [
    "### Part 1 - Data Prep and Cleaning"
   ]
  },
  {
   "cell_type": "code",
   "execution_count": 2,
   "metadata": {},
   "outputs": [],
   "source": [
    "#importing the data and preparing the dataframes\n",
    "url = 'https://raw.githubusercontent.com/CSSEGISandData/COVID-19/master/csse_covid_19_data/csse_covid_19_time_series/time_series_covid19_confirmed_US.csv'\n",
    "\n",
    "#list of null values to search for\n",
    "a = [np.nan, None, 'NaN', 'Null','NULL','None','NA','?','-', '.','', ' ', '   ']\n",
    "\n",
    "df = pd.read_csv(url, na_values = a)\n",
    "\n",
    "# melt and reshape data\n",
    "df = df.melt(id_vars=['UID', \n",
    "                      'iso2',\n",
    "                      'iso3',\n",
    "                      'code3',\n",
    "                      'FIPS',\n",
    "                      'Admin2',\n",
    "                      'Province_State',\n",
    "                      'Country_Region',\n",
    "                      'Lat',\n",
    "                      'Long_',\n",
    "                      'Combined_Key'],\n",
    "                var_name ='date',\n",
    "                value_name = \"cases\")\n",
    "\n",
    "\n",
    "#subsetting the data into USA\n",
    "usa = df[df.iso3 == 'USA'].copy()\n",
    "\n",
    "# convert date to datetime object\n",
    "usa['date'] = pd.to_datetime(usa.date)\n",
    "\n",
    "#subsetting the data into Virginia\n",
    "va = usa.loc[usa['Province_State'] == \"Virginia\"]"
   ]
  },
  {
   "cell_type": "code",
   "execution_count": 3,
   "metadata": {},
   "outputs": [
    {
     "data": {
      "text/html": [
       "<div>\n",
       "<style scoped>\n",
       "    .dataframe tbody tr th:only-of-type {\n",
       "        vertical-align: middle;\n",
       "    }\n",
       "\n",
       "    .dataframe tbody tr th {\n",
       "        vertical-align: top;\n",
       "    }\n",
       "\n",
       "    .dataframe thead th {\n",
       "        text-align: right;\n",
       "    }\n",
       "</style>\n",
       "<table border=\"1\" class=\"dataframe\">\n",
       "  <thead>\n",
       "    <tr style=\"text-align: right;\">\n",
       "      <th></th>\n",
       "      <th>UID</th>\n",
       "      <th>iso2</th>\n",
       "      <th>iso3</th>\n",
       "      <th>code3</th>\n",
       "      <th>FIPS</th>\n",
       "      <th>Admin2</th>\n",
       "      <th>Province_State</th>\n",
       "      <th>Country_Region</th>\n",
       "      <th>Lat</th>\n",
       "      <th>Long_</th>\n",
       "      <th>Combined_Key</th>\n",
       "      <th>date</th>\n",
       "      <th>cases</th>\n",
       "    </tr>\n",
       "  </thead>\n",
       "  <tbody>\n",
       "    <tr>\n",
       "      <th>0</th>\n",
       "      <td>84001001</td>\n",
       "      <td>US</td>\n",
       "      <td>USA</td>\n",
       "      <td>840</td>\n",
       "      <td>1001.0</td>\n",
       "      <td>Autauga</td>\n",
       "      <td>Alabama</td>\n",
       "      <td>US</td>\n",
       "      <td>32.539527</td>\n",
       "      <td>-86.644082</td>\n",
       "      <td>Autauga, Alabama, US</td>\n",
       "      <td>2020-01-22</td>\n",
       "      <td>0</td>\n",
       "    </tr>\n",
       "    <tr>\n",
       "      <th>1</th>\n",
       "      <td>84001003</td>\n",
       "      <td>US</td>\n",
       "      <td>USA</td>\n",
       "      <td>840</td>\n",
       "      <td>1003.0</td>\n",
       "      <td>Baldwin</td>\n",
       "      <td>Alabama</td>\n",
       "      <td>US</td>\n",
       "      <td>30.727750</td>\n",
       "      <td>-87.722071</td>\n",
       "      <td>Baldwin, Alabama, US</td>\n",
       "      <td>2020-01-22</td>\n",
       "      <td>0</td>\n",
       "    </tr>\n",
       "    <tr>\n",
       "      <th>2</th>\n",
       "      <td>84001005</td>\n",
       "      <td>US</td>\n",
       "      <td>USA</td>\n",
       "      <td>840</td>\n",
       "      <td>1005.0</td>\n",
       "      <td>Barbour</td>\n",
       "      <td>Alabama</td>\n",
       "      <td>US</td>\n",
       "      <td>31.868263</td>\n",
       "      <td>-85.387129</td>\n",
       "      <td>Barbour, Alabama, US</td>\n",
       "      <td>2020-01-22</td>\n",
       "      <td>0</td>\n",
       "    </tr>\n",
       "    <tr>\n",
       "      <th>3</th>\n",
       "      <td>84001007</td>\n",
       "      <td>US</td>\n",
       "      <td>USA</td>\n",
       "      <td>840</td>\n",
       "      <td>1007.0</td>\n",
       "      <td>Bibb</td>\n",
       "      <td>Alabama</td>\n",
       "      <td>US</td>\n",
       "      <td>32.996421</td>\n",
       "      <td>-87.125115</td>\n",
       "      <td>Bibb, Alabama, US</td>\n",
       "      <td>2020-01-22</td>\n",
       "      <td>0</td>\n",
       "    </tr>\n",
       "    <tr>\n",
       "      <th>4</th>\n",
       "      <td>84001009</td>\n",
       "      <td>US</td>\n",
       "      <td>USA</td>\n",
       "      <td>840</td>\n",
       "      <td>1009.0</td>\n",
       "      <td>Blount</td>\n",
       "      <td>Alabama</td>\n",
       "      <td>US</td>\n",
       "      <td>33.982109</td>\n",
       "      <td>-86.567906</td>\n",
       "      <td>Blount, Alabama, US</td>\n",
       "      <td>2020-01-22</td>\n",
       "      <td>0</td>\n",
       "    </tr>\n",
       "  </tbody>\n",
       "</table>\n",
       "</div>"
      ],
      "text/plain": [
       "        UID iso2 iso3  code3    FIPS   Admin2 Province_State Country_Region  \\\n",
       "0  84001001   US  USA    840  1001.0  Autauga        Alabama             US   \n",
       "1  84001003   US  USA    840  1003.0  Baldwin        Alabama             US   \n",
       "2  84001005   US  USA    840  1005.0  Barbour        Alabama             US   \n",
       "3  84001007   US  USA    840  1007.0     Bibb        Alabama             US   \n",
       "4  84001009   US  USA    840  1009.0   Blount        Alabama             US   \n",
       "\n",
       "         Lat      Long_          Combined_Key       date  cases  \n",
       "0  32.539527 -86.644082  Autauga, Alabama, US 2020-01-22      0  \n",
       "1  30.727750 -87.722071  Baldwin, Alabama, US 2020-01-22      0  \n",
       "2  31.868263 -85.387129  Barbour, Alabama, US 2020-01-22      0  \n",
       "3  32.996421 -87.125115     Bibb, Alabama, US 2020-01-22      0  \n",
       "4  33.982109 -86.567906   Blount, Alabama, US 2020-01-22      0  "
      ]
     },
     "execution_count": 3,
     "metadata": {},
     "output_type": "execute_result"
    }
   ],
   "source": [
    "# including the head for people to see the beginning of the dataframe\n",
    "# please refer to Johns Hopkins Github for field description of data set\n",
    "\n",
    "usa.head()"
   ]
  },
  {
   "cell_type": "code",
   "execution_count": 4,
   "metadata": {},
   "outputs": [
    {
     "data": {
      "text/html": [
       "<div>\n",
       "<style scoped>\n",
       "    .dataframe tbody tr th:only-of-type {\n",
       "        vertical-align: middle;\n",
       "    }\n",
       "\n",
       "    .dataframe tbody tr th {\n",
       "        vertical-align: top;\n",
       "    }\n",
       "\n",
       "    .dataframe thead th {\n",
       "        text-align: right;\n",
       "    }\n",
       "</style>\n",
       "<table border=\"1\" class=\"dataframe\">\n",
       "  <thead>\n",
       "    <tr style=\"text-align: right;\">\n",
       "      <th></th>\n",
       "      <th>UID</th>\n",
       "      <th>iso2</th>\n",
       "      <th>iso3</th>\n",
       "      <th>code3</th>\n",
       "      <th>FIPS</th>\n",
       "      <th>Admin2</th>\n",
       "      <th>Province_State</th>\n",
       "      <th>Country_Region</th>\n",
       "      <th>Lat</th>\n",
       "      <th>Long_</th>\n",
       "      <th>Combined_Key</th>\n",
       "      <th>date</th>\n",
       "      <th>cases</th>\n",
       "    </tr>\n",
       "  </thead>\n",
       "  <tbody>\n",
       "    <tr>\n",
       "      <th>2569993</th>\n",
       "      <td>84056039</td>\n",
       "      <td>US</td>\n",
       "      <td>USA</td>\n",
       "      <td>840</td>\n",
       "      <td>56039.0</td>\n",
       "      <td>Teton</td>\n",
       "      <td>Wyoming</td>\n",
       "      <td>US</td>\n",
       "      <td>43.935225</td>\n",
       "      <td>-110.589080</td>\n",
       "      <td>Teton, Wyoming, US</td>\n",
       "      <td>2022-02-28</td>\n",
       "      <td>9782</td>\n",
       "    </tr>\n",
       "    <tr>\n",
       "      <th>2569994</th>\n",
       "      <td>84056041</td>\n",
       "      <td>US</td>\n",
       "      <td>USA</td>\n",
       "      <td>840</td>\n",
       "      <td>56041.0</td>\n",
       "      <td>Uinta</td>\n",
       "      <td>Wyoming</td>\n",
       "      <td>US</td>\n",
       "      <td>41.287818</td>\n",
       "      <td>-110.547578</td>\n",
       "      <td>Uinta, Wyoming, US</td>\n",
       "      <td>2022-02-28</td>\n",
       "      <td>5623</td>\n",
       "    </tr>\n",
       "    <tr>\n",
       "      <th>2569995</th>\n",
       "      <td>84090056</td>\n",
       "      <td>US</td>\n",
       "      <td>USA</td>\n",
       "      <td>840</td>\n",
       "      <td>90056.0</td>\n",
       "      <td>Unassigned</td>\n",
       "      <td>Wyoming</td>\n",
       "      <td>US</td>\n",
       "      <td>0.000000</td>\n",
       "      <td>0.000000</td>\n",
       "      <td>Unassigned, Wyoming, US</td>\n",
       "      <td>2022-02-28</td>\n",
       "      <td>0</td>\n",
       "    </tr>\n",
       "    <tr>\n",
       "      <th>2569996</th>\n",
       "      <td>84056043</td>\n",
       "      <td>US</td>\n",
       "      <td>USA</td>\n",
       "      <td>840</td>\n",
       "      <td>56043.0</td>\n",
       "      <td>Washakie</td>\n",
       "      <td>Wyoming</td>\n",
       "      <td>US</td>\n",
       "      <td>43.904516</td>\n",
       "      <td>-107.680187</td>\n",
       "      <td>Washakie, Wyoming, US</td>\n",
       "      <td>2022-02-28</td>\n",
       "      <td>2337</td>\n",
       "    </tr>\n",
       "    <tr>\n",
       "      <th>2569997</th>\n",
       "      <td>84056045</td>\n",
       "      <td>US</td>\n",
       "      <td>USA</td>\n",
       "      <td>840</td>\n",
       "      <td>56045.0</td>\n",
       "      <td>Weston</td>\n",
       "      <td>Wyoming</td>\n",
       "      <td>US</td>\n",
       "      <td>43.839612</td>\n",
       "      <td>-104.567488</td>\n",
       "      <td>Weston, Wyoming, US</td>\n",
       "      <td>2022-02-28</td>\n",
       "      <td>1548</td>\n",
       "    </tr>\n",
       "  </tbody>\n",
       "</table>\n",
       "</div>"
      ],
      "text/plain": [
       "              UID iso2 iso3  code3     FIPS      Admin2 Province_State  \\\n",
       "2569993  84056039   US  USA    840  56039.0       Teton        Wyoming   \n",
       "2569994  84056041   US  USA    840  56041.0       Uinta        Wyoming   \n",
       "2569995  84090056   US  USA    840  90056.0  Unassigned        Wyoming   \n",
       "2569996  84056043   US  USA    840  56043.0    Washakie        Wyoming   \n",
       "2569997  84056045   US  USA    840  56045.0      Weston        Wyoming   \n",
       "\n",
       "        Country_Region        Lat       Long_             Combined_Key  \\\n",
       "2569993             US  43.935225 -110.589080       Teton, Wyoming, US   \n",
       "2569994             US  41.287818 -110.547578       Uinta, Wyoming, US   \n",
       "2569995             US   0.000000    0.000000  Unassigned, Wyoming, US   \n",
       "2569996             US  43.904516 -107.680187    Washakie, Wyoming, US   \n",
       "2569997             US  43.839612 -104.567488      Weston, Wyoming, US   \n",
       "\n",
       "              date  cases  \n",
       "2569993 2022-02-28   9782  \n",
       "2569994 2022-02-28   5623  \n",
       "2569995 2022-02-28      0  \n",
       "2569996 2022-02-28   2337  \n",
       "2569997 2022-02-28   1548  "
      ]
     },
     "execution_count": 4,
     "metadata": {},
     "output_type": "execute_result"
    }
   ],
   "source": [
    "# including the tail for people to see the end of the dataframe\n",
    "# please refer to Johns Hopkins Github for field description of data set\n",
    "\n",
    "usa.tail()"
   ]
  },
  {
   "cell_type": "markdown",
   "metadata": {},
   "source": [
    "#### Analysis regarding cleaning data: \n",
    "\n",
    "After deeply exploring the data it was found that there were some non-traditional \"junk\" values. Some of the rows within USA were found to have \"unassigned\" location values and only a case number. Since there is no way to determine where these data points came from, and they were only a small (<5%) percent of the data, the rows with \"unassigned\" locations were dropped. Another type of irrelevant/null data was found when exploring the Admin2 column. Upon further exploration (and a google search) it was found that there were covid-19 case counts from two cruise ships (Diamond Princess and Grand Princess)! Once again, since it only represented a small (<5%) percent of the data and since we wanted to focus on the USA spread of cases, these data points were also dropped."
   ]
  },
  {
   "cell_type": "code",
   "execution_count": 5,
   "metadata": {},
   "outputs": [
    {
     "name": "stdout",
     "output_type": "stream",
     "text": [
      "['Diamond Princess' 'Grand Princess']\n"
     ]
    }
   ],
   "source": [
    "#Cleaning the data\n",
    "\n",
    "## It was really interesting to see the different types of \"junk\" in the data. There were many rows of unassigned\n",
    "\n",
    "#getting rid of \"unassigned\" locations\n",
    "usa = usa[usa.Admin2 != \"Unassigned\"]\n",
    "\n",
    "#finding null values within Admin2\n",
    "usa_null = usa[usa.Admin2.isnull()]\n",
    "print(usa_null.Province_State.unique())\n",
    "\n",
    "#dropping Diamond Princess and Grand Princess (cruise ships)\n",
    "usa = usa.dropna(subset=['Admin2'])"
   ]
  },
  {
   "cell_type": "markdown",
   "metadata": {},
   "source": [
    "### Part 2 - Exploratory Analysis\n"
   ]
  },
  {
   "cell_type": "markdown",
   "metadata": {},
   "source": [
    "#### 1. What is the current number of Covid-19 cases in the USA?"
   ]
  },
  {
   "cell_type": "code",
   "execution_count": 6,
   "metadata": {},
   "outputs": [
    {
     "name": "stdout",
     "output_type": "stream",
     "text": [
      "The current total number of Covid-19 cases in the United States is: 78106056 cases\n"
     ]
    }
   ],
   "source": [
    "usa_latest = usa[usa.date == usa.date.max()]\n",
    "\n",
    "#current number of covid cases by state\n",
    "state_current_cases = usa_latest.groupby(['Province_State'],as_index=False).cases.sum()\n",
    "\n",
    "#current total number of cases in the USA\n",
    "current_usa_total = state_current_cases['cases'].sum()\n",
    "\n",
    "print(\"The current total number of Covid-19 cases in the United States is:\", current_usa_total, \"cases\")"
   ]
  },
  {
   "cell_type": "markdown",
   "metadata": {},
   "source": [
    "#### 2. Which states had the highest and lowest number of Covid-19 cases?"
   ]
  },
  {
   "cell_type": "code",
   "execution_count": 7,
   "metadata": {},
   "outputs": [
    {
     "name": "stdout",
     "output_type": "stream",
     "text": [
      "['California'] had the highest number of covid-19 cases with [8972750] cases.\n",
      "['Vermont'] had the lowest number of covid-19 cases with [98336] cases.\n"
     ]
    }
   ],
   "source": [
    "highest_state = state_current_cases[state_current_cases['cases']==state_current_cases['cases'].max()]\n",
    "lowest_state = state_current_cases[state_current_cases['cases']==state_current_cases['cases'].min()]\n",
    "\n",
    "print(highest_state.Province_State.values, \"had the highest number of covid-19 cases with\", highest_state.cases.values, \"cases.\")\n",
    "print(lowest_state.Province_State.values, \"had the lowest number of covid-19 cases with\", lowest_state.cases.values, \"cases.\")"
   ]
  },
  {
   "cell_type": "markdown",
   "metadata": {},
   "source": [
    "#### 3. Visualize the number of covid-19 cases per state.\n",
    "Note: Scale of number of cases is per million."
   ]
  },
  {
   "cell_type": "code",
   "execution_count": 8,
   "metadata": {},
   "outputs": [
    {
     "data": {
      "image/png": "[encoded data removed]",
      "text/plain": [
       "<Figure size 864x864 with 1 Axes>"
      ]
     },
     "metadata": {
      "needs_background": "light"
     },
     "output_type": "display_data"
    }
   ],
   "source": [
    "# Create figure and plot space\n",
    "fig, ax = plt.subplots(figsize=(12, 12))\n",
    "\n",
    "# Add x-axis and y-axis\n",
    "ax.bar(state_current_cases.Province_State,\n",
    "       state_current_cases.cases,\n",
    "       color='blue')\n",
    "\n",
    "# Set title and labels for axes\n",
    "ax.set(xlabel=\"States\",\n",
    "       ylabel=\"Number of cases (per million)\",\n",
    "       title=\" States vs. Current number of cases\")\n",
    "plt.xticks(rotation=90)\n",
    "\n",
    "plt.show()"
   ]
  },
  {
   "cell_type": "markdown",
   "metadata": {},
   "source": [
    "#### 4. What is the total number of cases in Virginia?"
   ]
  },
  {
   "cell_type": "code",
   "execution_count": 9,
   "metadata": {},
   "outputs": [
    {
     "name": "stdout",
     "output_type": "stream",
     "text": [
      "The current total number of Covid-19 cases in the state of Virginia is: 1639942 cases\n"
     ]
    }
   ],
   "source": [
    "# convert date to datetime object\n",
    "va['date'] = pd.to_datetime(va.date)\n",
    "\n",
    "# subsetting specific date\n",
    "valatest = va[va.date == va.date.max()]\n",
    "\n",
    "#total number of reported COVID-19 cases in the Virginia\n",
    "current_va_total = valatest['cases'].sum()\n",
    "\n",
    "print(\"The current total number of Covid-19 cases in the state of Virginia is:\", current_va_total, \"cases\")"
   ]
  },
  {
   "cell_type": "markdown",
   "metadata": {},
   "source": [
    "#### 5. How many new cases have been reported in Virginia over the past 10 days?"
   ]
  },
  {
   "cell_type": "code",
   "execution_count": 10,
   "metadata": {},
   "outputs": [
    {
     "data": {
      "image/png": "[encoded data removed]",
      "text/plain": [
       "<Figure size 864x864 with 1 Axes>"
      ]
     },
     "metadata": {
      "needs_background": "light"
     },
     "output_type": "display_data"
    }
   ],
   "source": [
    "#Newly reported cases in Virginia over 10 days\n",
    "\n",
    "# Virginia cases over the past 10 days\n",
    "valast10days = va[(va['date'] >= '2021-04-12') & (va['date'] <= '2021-04-22')]\n",
    "\n",
    "# Subsetting dates and cases\n",
    "plotdata = pd.DataFrame({'dates': valast10days['date'], 'cases': valast10days['cases']})\n",
    "\n",
    "# Group by date and calculate new cases\n",
    "plotdata = plotdata.groupby(pd.Grouper(key='dates',freq='D')).sum().diff()\n",
    "\n",
    "# Create figure and plot space\n",
    "fig, ax = plt.subplots(figsize=(12, 12))\n",
    "\n",
    "# Add x-axis and y-axis\n",
    "ax.bar(plotdata.index.values,\n",
    "       plotdata['cases'],\n",
    "       color='blue')\n",
    "\n",
    "# Set title and labels for axes\n",
    "ax.set(xlabel=\"Date\",\n",
    "       ylabel=\"Number of new cases\",\n",
    "       title=\" Newly reported cases in Virginia over 10 days\")\n",
    "\n",
    "plt.show()"
   ]
  },
  {
   "cell_type": "markdown",
   "metadata": {},
   "source": [
    "#### 6. Which county in Virginia reported the highest number of total cases?"
   ]
  },
  {
   "cell_type": "code",
   "execution_count": 11,
   "metadata": {},
   "outputs": [
    {
     "name": "stdout",
     "output_type": "stream",
     "text": [
      " Fairfax county has the highest number of total cases with  172659 cases.\n"
     ]
    }
   ],
   "source": [
    "#Which Virginia county reported the highest number of total cases?\n",
    "\n",
    "# Subsetting to county level\n",
    "vacounty = va[[\"Admin2\",\"cases\"]].copy()\n",
    "vacounty.set_index('Admin2', inplace=True)\n",
    "\n",
    "# Display county with highest number of total cases\n",
    "highest_county_name = vacounty.idxmax().to_string(index=False)\n",
    "max_county_case = vacounty.max().to_string(index=False)\n",
    "\n",
    "print(highest_county_name + ' county has the highest number of total cases with ' + max_county_case + ' cases.')"
   ]
  },
  {
   "cell_type": "markdown",
   "metadata": {},
   "source": [
    "#### 7. When did Fairfax County report the highest number of new Covid-19 cases (in a day)?"
   ]
  },
  {
   "cell_type": "code",
   "execution_count": 12,
   "metadata": {},
   "outputs": [
    {
     "name": "stdout",
     "output_type": "stream",
     "text": [
      "Fairfax County had the highest number of new COVID-19 cases ( 7655.0) on 2022-01-10.\n"
     ]
    }
   ],
   "source": [
    "#When did Fairfax county report the highest number of new COVID-19 cases in a day?\n",
    "\n",
    "ffxcounty = va[[\"Admin2\", \"date\", \"cases\"]].copy()\n",
    "ffxcounty = ffxcounty[ffxcounty.Admin2 == \"Fairfax\"].copy()\n",
    "\n",
    "ffxcounty = ffxcounty.groupby(pd.Grouper(key='date',freq='D')).sum().diff()\n",
    "\n",
    "max_ffxcounty_case = ffxcounty.max().to_string(index=False)\n",
    "highest_ffxcounty_date = ffxcounty.idxmax().to_string(index=False)\n",
    "\n",
    "print('Fairfax County had the highest number of new COVID-19 cases (' + max_ffxcounty_case + ') on ' + highest_ffxcounty_date + '.')"
   ]
  },
  {
   "cell_type": "markdown",
   "metadata": {},
   "source": [
    "#### 8. What is the distribution over time of total number of cases for Fairfax and Arlington counties?"
   ]
  },
  {
   "cell_type": "code",
   "execution_count": 13,
   "metadata": {},
   "outputs": [
    {
     "data": {
      "image/png": "[encoded data removed]",
      "text/plain": [
       "<Figure size 576x432 with 1 Axes>"
      ]
     },
     "metadata": {
      "needs_background": "light"
     },
     "output_type": "display_data"
    }
   ],
   "source": [
    "#One figure that shows two plotted lines, \n",
    "# where each line represents the total number of cases over time (from the earliest to the most recent date), \n",
    "# for Fairfax and Arlington.\n",
    "\n",
    "# Subsetting needed data\n",
    "ffxcounty2 = va[[\"Admin2\", \"date\", \"cases\"]].copy()\n",
    "ffxcounty2 = ffxcounty2[ffxcounty2.Admin2 == \"Fairfax\"].copy()\n",
    "\n",
    "arlington = va[[\"Admin2\", \"date\", \"cases\"]].copy()\n",
    "arlington = arlington[arlington.Admin2 == \"Arlington\"].copy()\n",
    "\n",
    "\n",
    "# Initialise the figure and axes.\n",
    "fig, ax = plt.subplots(1, figsize=(8, 6))\n",
    "\n",
    "# Set the title for the figure\n",
    "fig.suptitle('Total Number of Covid-19 Cases: Fairfax vs. Arlington County', fontsize=15)\n",
    "\n",
    "# Set title and labels for axes\n",
    "ax.set(xlabel=\"Date\", ylabel=\"Number of cases\")\n",
    "\n",
    "# Draw all the lines in the same plot, assigning a label for each one to be shown in the legend.\n",
    "ax.plot(ffxcounty2['date'], ffxcounty2['cases'], color=\"red\", label=\"Fairfax County\")\n",
    "ax.plot(arlington['date'], arlington['cases'], color=\"green\", label=\"Arlington County\")\n",
    "\n",
    "# Add a legend, and position it on the lower right (with no box)\n",
    "plt.legend(bbox_to_anchor=(1.04,1), loc=\"upper left\", title=\"Counties\", frameon=False)\n",
    "\n",
    "plt.show()"
   ]
  },
  {
   "cell_type": "markdown",
   "metadata": {},
   "source": [
    "### Part 3 - Model Building/Training and Result\n"
   ]
  },
  {
   "cell_type": "markdown",
   "metadata": {},
   "source": [
    "#### Simple time series for the number of covid-19 cases over time:"
   ]
  },
  {
   "cell_type": "markdown",
   "metadata": {},
   "source": [
    "###### Virginia from January 2020 to Present"
   ]
  },
  {
   "cell_type": "code",
   "execution_count": 14,
   "metadata": {},
   "outputs": [
    {
     "name": "stdout",
     "output_type": "stream",
     "text": [
      "Best-fit Slope: 1873.3919032507645\n"
     ]
    },
    {
     "data": {
      "image/png": "[encoded data removed]",
      "text/plain": [
       "<Figure size 432x288 with 1 Axes>"
      ]
     },
     "metadata": {
      "needs_background": "light"
     },
     "output_type": "display_data"
    }
   ],
   "source": [
    "#Virginia simple timeseries\n",
    "va_grouped = va.groupby(['date'],as_index=False).cases.sum()\n",
    "\n",
    "x_va = np.arange(va_grouped['date'].size)\n",
    "fit_va = np.polyfit(x_va, va_grouped['cases'], deg=1)\n",
    "print (\"Best-fit Slope: \" + str(fit_va[0]))\n",
    "\n",
    "#Fit function : y = mx + c [linear regression ]\n",
    "fit_function = np.poly1d(fit_va)\n",
    "\n",
    "#Linear regression plot\n",
    "plt.plot(va_grouped['date'], fit_function(x_va), '--', color = \"red\", label = 'Best fit')\n",
    "#Time series data plot\n",
    "plt.plot(va_grouped['date'], va_grouped['cases'], color = \"blue\", label = 'Cases over time')\n",
    "\n",
    "plt.xlabel('Date')\n",
    "plt.ylabel('Number of Cases (per million)')\n",
    "plt.title('Time Series for Virginia Cases Jan-2020 to Present')\n",
    "plt.xticks(rotation=90)\n",
    "plt.legend()\n",
    "plt.show()"
   ]
  },
  {
   "cell_type": "markdown",
   "metadata": {},
   "source": [
    "Results: The graph above illustrates the spread of covid-19 cases in Virginia over time. As seen there is a positive trend in the growth of covid-19 cases from January 2020 to Present. The rate of growth was found to be 1873 new cases per day."
   ]
  },
  {
   "cell_type": "markdown",
   "metadata": {},
   "source": [
    "###### USA from January 2020 to Present"
   ]
  },
  {
   "cell_type": "code",
   "execution_count": 15,
   "metadata": {},
   "outputs": [
    {
     "name": "stdout",
     "output_type": "stream",
     "text": [
      "Slope : 91447.06855607616\n"
     ]
    },
    {
     "data": {
      "image/png": "[encoded data removed]",
      "text/plain": [
       "<Figure size 432x288 with 1 Axes>"
      ]
     },
     "metadata": {
      "needs_background": "light"
     },
     "output_type": "display_data"
    }
   ],
   "source": [
    "#USA simple timeseries\n",
    "usa_grouped = usa.groupby(['date'],as_index=False).cases.sum()\n",
    "\n",
    "x_usa = np.arange(usa_grouped['date'].size)\n",
    "\n",
    "fit_usa = np.polyfit(x_usa, usa_grouped['cases'], deg=1)\n",
    "print (\"Slope : \" + str(fit_usa[0]))\n",
    "\n",
    "#Fit function : y = mx + c [linear regression ]\n",
    "fit_function = np.poly1d(fit_usa)\n",
    "\n",
    "#Linear regression plot\n",
    "plt.plot(usa_grouped['date'], fit_function(x_usa),'--', color = \"red\", label='best fit')\n",
    "#Time series data plot\n",
    "plt.plot(usa_grouped['date'], usa_grouped['cases'], color = \"blue\", label='cases over time')\n",
    "\n",
    "plt.xlabel('Date')\n",
    "plt.ylabel('Number of Cases (per million)')\n",
    "plt.title('Time Series for USA Cases Jan-2020 to Present')\n",
    "plt.xticks(rotation=90)\n",
    "plt.legend()\n",
    "plt.show()"
   ]
  },
  {
   "cell_type": "markdown",
   "metadata": {},
   "source": [
    "Results: The graph above illustrates the spread of covid-19 cases in all of USA over time. As seen there is a positive trend in the growth of covid-19 cases from January 2020 to Present. The rate of growth was found to be 91,447 new cases per day."
   ]
  },
  {
   "cell_type": "markdown",
   "metadata": {},
   "source": [
    "#### Build a Linear Regression model to predict number of cases in USA over time (January 2020 to Present)"
   ]
  },
  {
   "cell_type": "code",
   "execution_count": 16,
   "metadata": {},
   "outputs": [
    {
     "data": {
      "image/png": "[encoded data removed]",
      "text/plain": [
       "<Figure size 432x288 with 1 Axes>"
      ]
     },
     "metadata": {
      "needs_background": "light"
     },
     "output_type": "display_data"
    }
   ],
   "source": [
    "from sklearn.linear_model import LinearRegression\n",
    "\n",
    "# extract the seasonality data\n",
    "months = [x.month for x in usa_grouped.date]\n",
    "years = [x.year for x in usa_grouped.date]\n",
    "day = [x.day for x in usa_grouped.date]\n",
    " \n",
    "# convert into one matrix\n",
    "X = np.array([day, months, years]).T\n",
    " \n",
    "# fit the model\n",
    "my_lr = LinearRegression()\n",
    "my_lr.fit(X, usa_grouped.cases.values)\n",
    " \n",
    "# predict on the same period\n",
    "preds = my_lr.predict(X)\n",
    "\n",
    "pred_usa_grouped = usa_grouped.date\n",
    "\n",
    "# plot what has been learned\n",
    "plt.plot(usa_grouped.date, usa_grouped.cases.values, label = \"actual cases\")\n",
    "plt.plot(np.sort(pred_usa_grouped), np.sort(preds), label = \"predicted cases\")\n",
    "plt.xticks(rotation=90)\n",
    "plt.title(\"Linear Regression Forecast for USA\")\n",
    "plt.xlabel('Date')\n",
    "plt.ylabel('Number of Cases (per million)')\n",
    "plt.legend()\n",
    "plt.show()"
   ]
  },
  {
   "cell_type": "markdown",
   "metadata": {},
   "source": [
    "Results: The graph above illustrates the spread of covid-19 cases in all of USA over time along with a predicted linear regression model. As seen there is a positive trend in the growth of covid-19 cases from January 2020 to Present. The linear model also predicts the same trend; howevever it seems that the model is providing an under-fit estimation compared to the actual cases."
   ]
  },
  {
   "cell_type": "markdown",
   "metadata": {},
   "source": [
    "### Part 4 - Discussion / Conclusion"
   ]
  },
  {
   "cell_type": "markdown",
   "metadata": {},
   "source": [
    "Navigating large data sets can often be difficult due to their size. One of the biggest steps in data analysis is the cleaning of data. In order to have quality visualizations, the data must be organized and clean of unwanted values. Majority of the time was spent cleaning and subsetting the large data set to narrow the scope to the questions of interest. It was interesting to see how COVID-19 spread, both nationwide in the US and in the state of Virginia. Historical analysis was able to provide peaks and fluctuations of COVID-19 spread. The linear regression model was able to predict based on the historical data; however, it provided an under-fit estimation. Further analysis must be done in order to tweak the model for better fit or selection of another model may provide a better solution. Nonetheless, the visualizations that were created was able to summarize the data in a meaningful manner. Trends and insights were easily readable once visualized.\n",
    "\n",
    "Without a doubt Covid-19 has changed the lives of everyone in one form or another. In the coming years, continuous tracking and monitoring of the virus will be necessary in order to provide data/science driven decision making policies. Future policies should be devleoped in full transparancy and with the goal of benefitting the general public health domain."
   ]
  },
  {
   "cell_type": "code",
   "execution_count": null,
   "metadata": {},
   "outputs": [],
   "source": []
  }
 ],
 "metadata": {
  "kernelspec": {
   "display_name": "Python 3",
   "language": "python",
   "name": "python3"
  },
  "language_info": {
   "codemirror_mode": {
    "name": "ipython",
    "version": 3
   },
   "file_extension": ".py",
   "mimetype": "text/x-python",
   "name": "python",
   "nbconvert_exporter": "python",
   "pygments_lexer": "ipython3",
   "version": "3.8.5"
  }
 },
 "nbformat": 4,
 "nbformat_minor": 4
}
